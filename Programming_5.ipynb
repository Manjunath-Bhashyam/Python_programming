{
 "cells": [
  {
   "cell_type": "code",
   "execution_count": 5,
   "id": "2687550c",
   "metadata": {},
   "outputs": [
    {
     "data": {
      "text/plain": [
       "array([], dtype=int64)"
      ]
     },
     "execution_count": 5,
     "metadata": {},
     "output_type": "execute_result"
    }
   ],
   "source": [
    "# 1.\tWrite a Python Program to Add Two Matrices?\n",
    "\n",
    "import numpy as np\n",
    "\n",
    "arr1 = np.arange(5,5)\n",
    "arr2 = np.linspace(-1,1,25)\n",
    "arr1"
   ]
  },
  {
   "cell_type": "code",
   "execution_count": 17,
   "id": "a845bfc9",
   "metadata": {},
   "outputs": [],
   "source": [
    "arr1 = np.arange(25).reshape(5,5)"
   ]
  },
  {
   "cell_type": "code",
   "execution_count": 23,
   "id": "0d750db8",
   "metadata": {},
   "outputs": [],
   "source": [
    "arr2 = arr2.reshape(5,5)"
   ]
  },
  {
   "cell_type": "code",
   "execution_count": 24,
   "id": "9b5e33b9",
   "metadata": {},
   "outputs": [
    {
     "data": {
      "text/plain": [
       "array([[-1.        ,  0.08333333,  1.16666667,  2.25      ,  3.33333333],\n",
       "       [ 4.41666667,  5.5       ,  6.58333333,  7.66666667,  8.75      ],\n",
       "       [ 9.83333333, 10.91666667, 12.        , 13.08333333, 14.16666667],\n",
       "       [15.25      , 16.33333333, 17.41666667, 18.5       , 19.58333333],\n",
       "       [20.66666667, 21.75      , 22.83333333, 23.91666667, 25.        ]])"
      ]
     },
     "execution_count": 24,
     "metadata": {},
     "output_type": "execute_result"
    }
   ],
   "source": [
    "np.add(arr1,arr2)"
   ]
  },
  {
   "cell_type": "code",
   "execution_count": 34,
   "id": "4a708608",
   "metadata": {},
   "outputs": [],
   "source": [
    "new_arr = []\n",
    "for itm, value  in zip(arr1,arr2):\n",
    "    new_arr.append(itm+value)"
   ]
  },
  {
   "cell_type": "code",
   "execution_count": 35,
   "id": "e1cee399",
   "metadata": {},
   "outputs": [
    {
     "data": {
      "text/plain": [
       "[array([-1.        ,  0.08333333,  1.16666667,  2.25      ,  3.33333333]),\n",
       " array([4.41666667, 5.5       , 6.58333333, 7.66666667, 8.75      ]),\n",
       " array([ 9.83333333, 10.91666667, 12.        , 13.08333333, 14.16666667]),\n",
       " array([15.25      , 16.33333333, 17.41666667, 18.5       , 19.58333333]),\n",
       " array([20.66666667, 21.75      , 22.83333333, 23.91666667, 25.        ])]"
      ]
     },
     "execution_count": 35,
     "metadata": {},
     "output_type": "execute_result"
    }
   ],
   "source": [
    "new_arr"
   ]
  },
  {
   "cell_type": "code",
   "execution_count": 25,
   "id": "676ba908",
   "metadata": {},
   "outputs": [
    {
     "data": {
      "text/plain": [
       "array([[  2.5       ,   3.33333333,   4.16666667,   5.        ,\n",
       "          5.83333333],\n",
       "       [ -1.66666667,   1.25      ,   4.16666667,   7.08333333,\n",
       "         10.        ],\n",
       "       [ -5.83333333,  -0.83333333,   4.16666667,   9.16666667,\n",
       "         14.16666667],\n",
       "       [-10.        ,  -2.91666667,   4.16666667,  11.25      ,\n",
       "         18.33333333],\n",
       "       [-14.16666667,  -5.        ,   4.16666667,  13.33333333,\n",
       "         22.5       ]])"
      ]
     },
     "execution_count": 25,
     "metadata": {},
     "output_type": "execute_result"
    }
   ],
   "source": [
    "# 2.\tWrite a Python Program to Multiply Two Matrices?\n",
    "\n",
    "np.matmul(arr1,arr2)"
   ]
  },
  {
   "cell_type": "code",
   "execution_count": 27,
   "id": "8f8b0f62",
   "metadata": {},
   "outputs": [
    {
     "data": {
      "text/plain": [
       "array([[ 0,  5, 10, 15, 20],\n",
       "       [ 1,  6, 11, 16, 21],\n",
       "       [ 2,  7, 12, 17, 22],\n",
       "       [ 3,  8, 13, 18, 23],\n",
       "       [ 4,  9, 14, 19, 24]])"
      ]
     },
     "execution_count": 27,
     "metadata": {},
     "output_type": "execute_result"
    }
   ],
   "source": [
    "# 3.\tWrite a Python Program to Transpose a Matrix?\n",
    "\n",
    "arr1.T"
   ]
  },
  {
   "cell_type": "code",
   "execution_count": 38,
   "id": "1ab841ad",
   "metadata": {},
   "outputs": [
    {
     "data": {
      "text/plain": [
       "['papaya', 'mango', 'grapes', 'banana', 'apple']"
      ]
     },
     "execution_count": 38,
     "metadata": {},
     "output_type": "execute_result"
    }
   ],
   "source": [
    "# 4.\tWrite a Python Program to Sort Words in Alphabetic Order?\n",
    "\n",
    "x = [\"banana\",\"apple\",\"grapes\",\"papaya\",\"mango\"]\n",
    "x.sort(reverse=True)\n",
    "x"
   ]
  },
  {
   "cell_type": "code",
   "execution_count": 45,
   "id": "7480bdac",
   "metadata": {},
   "outputs": [
    {
     "data": {
      "text/plain": [
       "'What a good weather it is today  Indeed its a very good weather  right'"
      ]
     },
     "execution_count": 45,
     "metadata": {},
     "output_type": "execute_result"
    }
   ],
   "source": [
    "# 5.\tWrite a Python Program to Remove Punctuation From a String?\n",
    "import string\n",
    "\n",
    "translator = str.maketrans('','',string.punctuation)\n",
    "x = \"What a good weather! it is today!  Indeed it's a very good weather  right\"\n",
    "x.translate(translator)"
   ]
  },
  {
   "cell_type": "code",
   "execution_count": 47,
   "id": "cddf59b2",
   "metadata": {},
   "outputs": [
    {
     "data": {
      "text/plain": [
       "'What a good weather it is today  Indeed its a very good weather  right'"
      ]
     },
     "execution_count": 47,
     "metadata": {},
     "output_type": "execute_result"
    }
   ],
   "source": [
    "''.join(word for word in x if word not in string.punctuation)"
   ]
  },
  {
   "cell_type": "code",
   "execution_count": null,
   "id": "a83de72a",
   "metadata": {},
   "outputs": [],
   "source": []
  }
 ],
 "metadata": {
  "kernelspec": {
   "display_name": "Python 3",
   "language": "python",
   "name": "python3"
  },
  "language_info": {
   "codemirror_mode": {
    "name": "ipython",
    "version": 3
   },
   "file_extension": ".py",
   "mimetype": "text/x-python",
   "name": "python",
   "nbconvert_exporter": "python",
   "pygments_lexer": "ipython3",
   "version": "3.10.0"
  }
 },
 "nbformat": 4,
 "nbformat_minor": 5
}
