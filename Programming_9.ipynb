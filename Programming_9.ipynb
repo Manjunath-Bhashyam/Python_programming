{
 "cells": [
  {
   "cell_type": "code",
   "execution_count": null,
   "id": "3761548f",
   "metadata": {},
   "outputs": [
    {
     "data": {
      "text/plain": [
       "{1, 2}"
      ]
     },
     "execution_count": 31,
     "metadata": {},
     "output_type": "execute_result"
    }
   ],
   "source": [
    "# 1.\tWrite a Python program to Extract Unique values dictionary values list?\n",
    "\n",
    "dict_n = {\"a\":1,\"b\":2,\"c\":2}\n",
    "set(dict_n.values())"
   ]
  },
  {
   "cell_type": "code",
   "execution_count": 35,
   "id": "d0fe9915",
   "metadata": {},
   "outputs": [
    {
     "name": "stdout",
     "output_type": "stream",
     "text": [
      "[1, 2, 5, 6, 7, 8, 10, 11, 12]\n"
     ]
    }
   ],
   "source": [
    "test_dict = {'gfg': [5, 6, 7, 8],\n",
    "             'is': [10, 11, 7, 5],\n",
    "             'best': [6, 12, 10, 8],\n",
    "             'for': [1, 2, 5]}\n",
    "x= []\n",
    "for key, values in test_dict.items():\n",
    "    x.extend(values)\n",
    "print(list(set(x)))"
   ]
  },
  {
   "cell_type": "code",
   "execution_count": 36,
   "id": "88d6f84f",
   "metadata": {},
   "outputs": [
    {
     "name": "stdout",
     "output_type": "stream",
     "text": [
      "Original OrderedDict: OrderedDict([('a', 1), ('b', 2), ('c', 3)])\n",
      "Modified OrderedDict: OrderedDict([('x', 0), ('a', 1), ('b', 2), ('c', 3)])\n"
     ]
    }
   ],
   "source": [
    "# 5.\tWrite a Python program to insertion at the beginning in OrderedDict?\n",
    "\n",
    "from collections import OrderedDict\n",
    "\n",
    "def insert_at_beginning(ordered_dict, key, value):\n",
    "  \"\"\"Inserts a key-value pair at the beginning of an OrderedDict.\"\"\"\n",
    "  ordered_dict.update({key: value})\n",
    "  ordered_dict.move_to_end(key, last=False)\n",
    "  return ordered_dict\n",
    "\n",
    "# Example Usage\n",
    "my_ordered_dict = OrderedDict([('a', 1), ('b', 2), ('c', 3)])\n",
    "print(\"Original OrderedDict:\", my_ordered_dict)\n",
    "\n",
    "my_ordered_dict = insert_at_beginning(my_ordered_dict, 'x', 0)\n",
    "print(\"Modified OrderedDict:\", my_ordered_dict)"
   ]
  },
  {
   "cell_type": "code",
   "execution_count": 40,
   "id": "9cf590fc",
   "metadata": {},
   "outputs": [
    {
     "name": "stdout",
     "output_type": "stream",
     "text": [
      "4\n"
     ]
    }
   ],
   "source": [
    "# Hamming distance between 2 strings\n",
    "\n",
    "String1= \"geekspractice\"\n",
    "String2= \"nerdspractise\"\n",
    "\n",
    "count = 0\n",
    "for ind in range(len(String1)):\n",
    "    if String1[ind] != String2[ind]:\n",
    "        count+=1\n",
    "\n",
    "print(count)"
   ]
  },
  {
   "cell_type": "code",
   "execution_count": null,
   "id": "a30affa9",
   "metadata": {},
   "outputs": [],
   "source": []
  }
 ],
 "metadata": {
  "language_info": {
   "name": "python"
  }
 },
 "nbformat": 4,
 "nbformat_minor": 5
}
