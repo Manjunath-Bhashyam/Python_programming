{
 "cells": [
  {
   "cell_type": "code",
   "execution_count": 1,
   "id": "4cac2a13",
   "metadata": {},
   "outputs": [
    {
     "data": {
      "text/plain": [
       "[\"it's\", 'beautiful']"
      ]
     },
     "execution_count": 1,
     "metadata": {},
     "output_type": "execute_result"
    }
   ],
   "source": [
    "# 1.\tWrite a Python program to find words which are greater than given length k?\n",
    "\n",
    "def word_counter(sentence, k):\n",
    "    words = sentence.split()\n",
    "    return [word for word in words if len(word) > k]\n",
    "\n",
    "word_counter(\"it's beautiful day\",3)"
   ]
  },
  {
   "cell_type": "code",
   "execution_count": 2,
   "id": "68f85ae5",
   "metadata": {},
   "outputs": [
    {
     "data": {
      "text/plain": [
       "\"t's beautful day\""
      ]
     },
     "execution_count": 2,
     "metadata": {},
     "output_type": "execute_result"
    }
   ],
   "source": [
    "# 2.\tWrite a Python program for removing i-th character from a string?\n",
    "\n",
    "def char_remove(sentence, char):\n",
    "    words = sentence.split()\n",
    "    return ' '.join(word.replace(char,'') for word in words)\n",
    "\n",
    "char_remove(\"it's beautiful day\",'i')"
   ]
  },
  {
   "cell_type": "code",
   "execution_count": 3,
   "id": "851695b4",
   "metadata": {},
   "outputs": [
    {
     "name": "stdout",
     "output_type": "stream",
     "text": [
      "'101010' is a binary string: True\n",
      "'101201' is a binary string: False\n"
     ]
    }
   ],
   "source": [
    "# 4.\tWrite a Python to check if a given string is binary string or not?\n",
    "\n",
    "def is_binary_string(input_string):\n",
    "  \"\"\"\n",
    "  Checks if a given string is a binary string (contains only '0' and '1').\n",
    "\n",
    "  Args:\n",
    "    input_string: The string to check.\n",
    "\n",
    "  Returns:\n",
    "    True if the string is a binary string, False otherwise.\n",
    "  \"\"\"\n",
    "  for char in input_string:\n",
    "    if char != '0' and char != '1':\n",
    "      return False\n",
    "  return True\n",
    "\n",
    "# Example usage\n",
    "string1 = \"101010\"\n",
    "string2 = \"101201\"\n",
    "\n",
    "print(f\"'{string1}' is a binary string: {is_binary_string(string1)}\")\n",
    "print(f\"'{string2}' is a binary string: {is_binary_string(string2)}\")"
   ]
  },
  {
   "cell_type": "code",
   "execution_count": 5,
   "id": "d36f8fc0",
   "metadata": {},
   "outputs": [
    {
     "data": {
      "text/plain": [
       "['Morning']"
      ]
     },
     "execution_count": 5,
     "metadata": {},
     "output_type": "execute_result"
    }
   ],
   "source": [
    "# 5.\tWrite a Python program to find uncommon words from two Strings?\n",
    "\n",
    "def words_uncommon(str1,str2):\n",
    "    sen1 = str1.split()\n",
    "    sen2 = str2.split()\n",
    "    return [word for word in sen1 if word not in sen2]\n",
    "\n",
    "words_uncommon(\"Good Morning\",\"Good Evening\")"
   ]
  },
  {
   "cell_type": "code",
   "execution_count": 10,
   "id": "fc0f5c52",
   "metadata": {},
   "outputs": [
    {
     "data": {
      "text/plain": [
       "['c', 'a', 'r']"
      ]
     },
     "execution_count": 10,
     "metadata": {},
     "output_type": "execute_result"
    }
   ],
   "source": [
    "# 6.\tWrite a Python to find all duplicate characters in string?\n",
    "\n",
    "def duplicate_char(word):\n",
    "    x = {}\n",
    "    y = []\n",
    "    for char in word:\n",
    "        x.update({char:word.count(char)})\n",
    "\n",
    "    for key,value in x.items():\n",
    "        if value > 1:\n",
    "            y.append(key)\n",
    "    return y\n",
    "\n",
    "duplicate_char('character')\n"
   ]
  },
  {
   "cell_type": "code",
   "execution_count": 12,
   "id": "7b28028d",
   "metadata": {},
   "outputs": [
    {
     "data": {
      "text/plain": [
       "'yes'"
      ]
     },
     "execution_count": 12,
     "metadata": {},
     "output_type": "execute_result"
    }
   ],
   "source": [
    "# 7.\tWrite a Python Program to check if a string contains any special character?\n",
    "import string\n",
    "\n",
    "def special_char(string1):\n",
    "    for char in string1:\n",
    "        if char in string.punctuation:\n",
    "            return \"yes\"\n",
    "\n",
    "special_char('@gmail')"
   ]
  },
  {
   "cell_type": "code",
   "execution_count": null,
   "id": "cb2c343d",
   "metadata": {},
   "outputs": [],
   "source": []
  }
 ],
 "metadata": {
  "kernelspec": {
   "display_name": "Python 3",
   "language": "python",
   "name": "python3"
  },
  "language_info": {
   "codemirror_mode": {
    "name": "ipython",
    "version": 3
   },
   "file_extension": ".py",
   "mimetype": "text/x-python",
   "name": "python",
   "nbconvert_exporter": "python",
   "pygments_lexer": "ipython3",
   "version": "3.10.0"
  }
 },
 "nbformat": 4,
 "nbformat_minor": 5
}
