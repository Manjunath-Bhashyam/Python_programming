{
 "cells": [
  {
   "cell_type": "markdown",
   "id": "0d27810e",
   "metadata": {},
   "source": [
    "1. Write a Python program to print \"Hello Python\"?"
   ]
  },
  {
   "cell_type": "code",
   "execution_count": 1,
   "id": "3b5871e7",
   "metadata": {},
   "outputs": [
    {
     "name": "stdout",
     "output_type": "stream",
     "text": [
      "Hello Python\n"
     ]
    }
   ],
   "source": [
    "import logging\n",
    "logging.basicConfig(filename=\"basic_1.log\", level=logging.DEBUG, format = '%(asctime)s %(levelname)s %(message)s', filemode='w+')\n",
    "\n",
    "class Hello:\n",
    "    \n",
    "    def __init__(self):\n",
    "        pass\n",
    "    \n",
    "    def welcome(self):\n",
    "        \"\"\"This function prints Hello Python.\"\"\"\n",
    "        try:\n",
    "            print(\"Hello Python\")\n",
    "            logging.info(\"Printing Hello Python\")\n",
    "        except Exception as e:\n",
    "            logging.error(\"Error occured in Printing Hello Python message: \" + str(e))\n",
    "            \n",
    "try:\n",
    "    greetings = Hello()\n",
    "    greetings.welcome()\n",
    "    logging.info(\"Print Successful\")\n",
    "except Exception as e:\n",
    "    logging.error(\"Error occured \" + str(e))"
   ]
  },
  {
   "cell_type": "raw",
   "id": "b2a6a720",
   "metadata": {},
   "source": []
  },
  {
   "cell_type": "markdown",
   "id": "af70b958",
   "metadata": {},
   "source": [
    "2.\tWrite a Python program to do arithmetical operations addition and division.?"
   ]
  },
  {
   "cell_type": "code",
   "execution_count": 7,
   "id": "331236ee",
   "metadata": {},
   "outputs": [
    {
     "name": "stdout",
     "output_type": "stream",
     "text": [
      "Enter your first number 10\n",
      "Enter your second number 20\n",
      "The sum of given two numbers is 30\n",
      "The division of given two numbers is 0.5\n"
     ]
    }
   ],
   "source": [
    "class Arithmetic:\n",
    "    \n",
    "    def __init__(self,a,b):\n",
    "        self.a = a\n",
    "        self.b = b\n",
    "        \n",
    "    def add(self):\n",
    "        \"\"\"This function returns the sum of given two numbers\"\"\"\n",
    "        try:\n",
    "            add = self.a + self.b\n",
    "            logging.info(\"Performing Addition Operation\")\n",
    "            print(f\"The sum of given two numbers is {add}\")\n",
    "        except Exception as e:\n",
    "            logging.error(\"Error occured in addition \" + str(e))\n",
    "            \n",
    "    def div(self):\n",
    "        \"\"\"This function divides the two numbers and provides the obtained result\"\"\"\n",
    "        try:\n",
    "            divide = (self.a/self.b)\n",
    "            logging.info(\"Performing Division Operation\")\n",
    "            print(f\"The division of given two numbers is {divide}\")\n",
    "        except ZeroDivisionError:\n",
    "            print(\"division by zero not possible\")\n",
    "            logging.error(\"division by zero not possible\")\n",
    "        except Exception as e:\n",
    "            logging.error(\"Error occured in division \" + str(e))\n",
    "\n",
    "# test 1\n",
    "try:\n",
    "    num_1 = int(input(\"Enter your first number \"))\n",
    "    num_2 = int(input(\"Enter your second number \"))\n",
    "    math_operation = Arithmetic(num_1,num_2)\n",
    "    math_operation.add()\n",
    "    logging.info(\"Addition operation executed\")\n",
    "    math_operation.div()\n",
    "    logging.info(\"Division operation executed\")\n",
    "except Exception as e:\n",
    "    logging.error(\"Error occured in arithmetic operation\")"
   ]
  },
  {
   "cell_type": "code",
   "execution_count": 3,
   "id": "21dc3d5a",
   "metadata": {},
   "outputs": [
    {
     "name": "stdout",
     "output_type": "stream",
     "text": [
      "The sum of given two numbers is 2\n",
      "division by zero not possible\n"
     ]
    }
   ],
   "source": [
    "# test 2\n",
    "math_operation = Arithmetic(2,0)\n",
    "math_operation.add()\n",
    "math_operation.div()"
   ]
  },
  {
   "cell_type": "raw",
   "id": "2e1765a8",
   "metadata": {},
   "source": []
  },
  {
   "cell_type": "markdown",
   "id": "a2984eb2",
   "metadata": {},
   "source": [
    "3.Write a Python program to find the area of a triangle?"
   ]
  },
  {
   "cell_type": "code",
   "execution_count": 4,
   "id": "71f65959",
   "metadata": {},
   "outputs": [
    {
     "name": "stdout",
     "output_type": "stream",
     "text": [
      "Enter the base of the triangle 20\n",
      "Enter the height of the triangle 30\n",
      "Area of the triangle calculated is 300.0\n"
     ]
    }
   ],
   "source": [
    "class Triangle:\n",
    "    \n",
    "    def __init__(self,base,height):\n",
    "        self.base = base\n",
    "        self.height = height\n",
    "        \n",
    "    def area_of_triangle(self):\n",
    "        \"\"\"This function returns the area of a triangle\"\"\"\n",
    "        try:\n",
    "            area = 0.5 * base * height\n",
    "            logging.info(f\"Area of triangle is {area}\")\n",
    "            print(f\"Area of the triangle calculated is {area}\")\n",
    "        except Exception as e:\n",
    "            logging.error(\"Error occured in calculating area of triangle \" + str(e))\n",
    "            \n",
    "try:\n",
    "    base = int(input(\"Enter the base of the triangle \"))\n",
    "    height = int(input(\"Enter the height of the triangle \"))\n",
    "    given_triangle = Triangle(base,height)\n",
    "    given_triangle.area_of_triangle()\n",
    "    logging.info(\"Area of triangle is successfully calculated\")\n",
    "except Exception as e:\n",
    "    logging.error(\"Error in area of triangle calculation\" + str(e))            "
   ]
  },
  {
   "cell_type": "raw",
   "id": "ac697350",
   "metadata": {},
   "source": []
  },
  {
   "cell_type": "markdown",
   "id": "8a41e534",
   "metadata": {},
   "source": [
    "4. Write a Python program to swap two variables?"
   ]
  },
  {
   "cell_type": "code",
   "execution_count": 5,
   "id": "ddd0d4dc",
   "metadata": {},
   "outputs": [
    {
     "name": "stdout",
     "output_type": "stream",
     "text": [
      "Enter the first variable King\n",
      "Enter the second variable Joker\n",
      "Swapping first variable King to Joker and second variable Joker to King\n",
      "Swapping Successful first variable is now Joker and second variable is now King\n"
     ]
    }
   ],
   "source": [
    "class Swap:\n",
    "    \n",
    "    def __init__(self,a,b):\n",
    "        self.a = a\n",
    "        self.b = b\n",
    "        \n",
    "    def swapping(self):\n",
    "        \"\"\"This function swaps two given variables and returns the same\"\"\"\n",
    "        try:\n",
    "            print(f\"Swapping first variable {self.a} to {self.b} and second variable {self.b} to {self.a}\")\n",
    "            self.a, self.b = self.b, self.a\n",
    "            print(f\"Swapping Successful first variable is now {self.a} and second variable is now {self.b}\")\n",
    "            logging.info(f\"Swapping Successful from {self.a} to {self.b} and {self.b} to {self.a}\")\n",
    "        except Exception as e:\n",
    "            logging.error(\"Error in swapping \" + str(e))\n",
    "            \n",
    "try:\n",
    "    a = input(\"Enter the first variable \")\n",
    "    b = input(\"Enter the second variable \")\n",
    "    interchange = Swap(a,b)\n",
    "    interchange.swapping()\n",
    "    logging.info(\"swapping successful\")\n",
    "except Exception as e:\n",
    "    logging.error(\"Error in swapping \" + str(e))        "
   ]
  },
  {
   "cell_type": "raw",
   "id": "f54659ff",
   "metadata": {},
   "source": []
  },
  {
   "cell_type": "markdown",
   "id": "6a555700",
   "metadata": {},
   "source": [
    "5.\tWrite a Python program to generate a random number?"
   ]
  },
  {
   "cell_type": "code",
   "execution_count": 6,
   "id": "dd58aa06",
   "metadata": {},
   "outputs": [
    {
     "name": "stdout",
     "output_type": "stream",
     "text": [
      "Enter the lower boundary to select a random integer from the given range 1\n",
      "Enter the upper boundary to select a random integer from the given range 100\n",
      "obtained random integer between (1, 100) is 81\n"
     ]
    }
   ],
   "source": [
    "import random\n",
    "class Random:\n",
    "    \n",
    "    def __init__(self,a,b):\n",
    "        self.a = a\n",
    "        self.b = b\n",
    "    \n",
    "    def random_num(self):\n",
    "        \"\"\"This function returns a random integer in a given range of numbers\"\"\"\n",
    "        try:\n",
    "            random_number = random.randint(a,b)\n",
    "            print(f\"obtained random integer between ({self.a}, {self.b}) is {random_number}\")\n",
    "            logging.info(f\"obtained random integer between ({self.a}, {self.b}) is {random_number}\")\n",
    "        except Exception as e:\n",
    "            logging.error('Error Occurred in providing a random integer ' + str(e))\n",
    "            \n",
    "try:\n",
    "    a = int(input(\"Enter the lower boundary to select a random integer from the given range \"))\n",
    "    b = int(input(\"Enter the upper boundary to select a random integer from the given range \"))\n",
    "    required_num = Random(a,b)\n",
    "    required_num.random_num()\n",
    "    logging.info(\"Random Number Selected and provided output\")\n",
    "except Exception as e:\n",
    "    logging.error('Error Occurred in providing a random integer ' + str(e))"
   ]
  },
  {
   "cell_type": "code",
   "execution_count": null,
   "id": "dbae2006",
   "metadata": {},
   "outputs": [],
   "source": []
  }
 ],
 "metadata": {
  "kernelspec": {
   "display_name": "Python 3 (ipykernel)",
   "language": "python",
   "name": "python3"
  },
  "language_info": {
   "codemirror_mode": {
    "name": "ipython",
    "version": 3
   },
   "file_extension": ".py",
   "mimetype": "text/x-python",
   "name": "python",
   "nbconvert_exporter": "python",
   "pygments_lexer": "ipython3",
   "version": "3.9.7"
  }
 },
 "nbformat": 4,
 "nbformat_minor": 5
}
