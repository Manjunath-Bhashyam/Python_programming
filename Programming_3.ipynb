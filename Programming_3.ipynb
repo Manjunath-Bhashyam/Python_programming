{
 "cells": [
  {
   "cell_type": "code",
   "execution_count": 2,
   "id": "6a5e3ed3",
   "metadata": {},
   "outputs": [
    {
     "data": {
      "text/plain": [
       "'Number is Negative: -2'"
      ]
     },
     "execution_count": 2,
     "metadata": {},
     "output_type": "execute_result"
    }
   ],
   "source": [
    "# 1.\tWrite a Python Program to Check if a Number is Positive, Negative or Zero?\n",
    "\n",
    "def check_number(num):\n",
    "    if num < 0:\n",
    "        return f\"Number is Negative: {num}\"\n",
    "    elif num > 0:\n",
    "        return f\"Number is Positive: {num}\"\n",
    "    else:\n",
    "        return f\"Number is Zero: {num}\"\n",
    "    \n",
    "check_number(-2)\n",
    "# check_number(100)\n",
    "# check_number(0)"
   ]
  },
  {
   "cell_type": "code",
   "execution_count": 4,
   "id": "dcbad018",
   "metadata": {},
   "outputs": [
    {
     "data": {
      "text/plain": [
       "'Number is Even: 14'"
      ]
     },
     "execution_count": 4,
     "metadata": {},
     "output_type": "execute_result"
    }
   ],
   "source": [
    "# 2.\tWrite a Python Program to Check if a Number is Odd or Even?\n",
    "\n",
    "def check_even_odd(num):\n",
    "    if num % 2 == 0:\n",
    "        return f\"Number is Even: {num}\"\n",
    "    else:\n",
    "        return f\"Number is Odd: {num}\"\n",
    "    \n",
    "check_even_odd(14)\n",
    "# check_even_odd(15)"
   ]
  },
  {
   "cell_type": "code",
   "execution_count": 6,
   "id": "c1be53cf",
   "metadata": {},
   "outputs": [
    {
     "data": {
      "text/plain": [
       "'Year is Leap Year: 2024'"
      ]
     },
     "execution_count": 6,
     "metadata": {},
     "output_type": "execute_result"
    }
   ],
   "source": [
    "# 3.\tWrite a Python Program to Check Leap Year?\n",
    "\n",
    "def check_leap_year(year):\n",
    "    if year % 4==0:\n",
    "        return f\"Year is Leap Year: {year}\"\n",
    "    else:\n",
    "        return f\"Year is Not a Leap Year: {year}\"\n",
    "    \n",
    "check_leap_year(2025)\n",
    "check_leap_year(2024)"
   ]
  },
  {
   "cell_type": "code",
   "execution_count": 53,
   "id": "c66d962f",
   "metadata": {},
   "outputs": [
    {
     "data": {
      "text/plain": [
       "'Number is not a Prime: 0'"
      ]
     },
     "execution_count": 53,
     "metadata": {},
     "output_type": "execute_result"
    }
   ],
   "source": [
    "# 4.\tWrite a Python Program to Check Prime Number?\n",
    "\n",
    "def check_prime(num):\n",
    "    if num >1:\n",
    "        for i in range(2,num):\n",
    "            if num%i ==0:\n",
    "                return f\"Number is not a Prime: {num}\"\n",
    "        return f\"Number is Prime: {num}\"\n",
    "    else:\n",
    "        return f\"Number is not a Prime: {num}\"\n",
    "\n",
    "        \n",
    "check_prime(0)"
   ]
  },
  {
   "cell_type": "code",
   "execution_count": 45,
   "id": "eb4a17bc",
   "metadata": {},
   "outputs": [
    {
     "data": {
      "text/plain": [
       "1"
      ]
     },
     "execution_count": 45,
     "metadata": {},
     "output_type": "execute_result"
    }
   ],
   "source": [
    "1%2"
   ]
  },
  {
   "cell_type": "code",
   "execution_count": 54,
   "id": "6cdf5973",
   "metadata": {},
   "outputs": [
    {
     "name": "stdout",
     "output_type": "stream",
     "text": [
      "2\n",
      "3\n",
      "5\n",
      "7\n",
      "11\n",
      "13\n",
      "17\n",
      "19\n",
      "23\n",
      "29\n",
      "31\n",
      "37\n",
      "41\n",
      "43\n",
      "47\n",
      "53\n",
      "59\n",
      "61\n",
      "67\n",
      "71\n",
      "73\n",
      "79\n",
      "83\n",
      "89\n",
      "97\n",
      "101\n",
      "103\n",
      "107\n",
      "109\n",
      "113\n",
      "127\n",
      "131\n",
      "137\n",
      "139\n",
      "149\n",
      "151\n",
      "157\n",
      "163\n",
      "167\n",
      "173\n",
      "179\n",
      "181\n",
      "191\n",
      "193\n",
      "197\n",
      "199\n",
      "211\n",
      "223\n",
      "227\n",
      "229\n",
      "233\n",
      "239\n",
      "241\n",
      "251\n",
      "257\n",
      "263\n",
      "269\n",
      "271\n",
      "277\n",
      "281\n",
      "283\n",
      "293\n",
      "307\n",
      "311\n",
      "313\n",
      "317\n",
      "331\n",
      "337\n",
      "347\n",
      "349\n",
      "353\n",
      "359\n",
      "367\n",
      "373\n",
      "379\n",
      "383\n",
      "389\n",
      "397\n",
      "401\n",
      "409\n",
      "419\n",
      "421\n",
      "431\n",
      "433\n",
      "439\n",
      "443\n",
      "449\n",
      "457\n",
      "461\n",
      "463\n",
      "467\n",
      "479\n",
      "487\n",
      "491\n",
      "499\n",
      "503\n",
      "509\n",
      "521\n",
      "523\n",
      "541\n",
      "547\n",
      "557\n",
      "563\n",
      "569\n",
      "571\n",
      "577\n",
      "587\n",
      "593\n",
      "599\n",
      "601\n",
      "607\n",
      "613\n",
      "617\n",
      "619\n",
      "631\n",
      "641\n",
      "643\n",
      "647\n",
      "653\n",
      "659\n",
      "661\n",
      "673\n",
      "677\n",
      "683\n",
      "691\n",
      "701\n",
      "709\n",
      "719\n",
      "727\n",
      "733\n",
      "739\n",
      "743\n",
      "751\n",
      "757\n",
      "761\n",
      "769\n",
      "773\n",
      "787\n",
      "797\n",
      "809\n",
      "811\n",
      "821\n",
      "823\n",
      "827\n",
      "829\n",
      "839\n",
      "853\n",
      "857\n",
      "859\n",
      "863\n",
      "877\n",
      "881\n",
      "883\n",
      "887\n",
      "907\n",
      "911\n",
      "919\n",
      "929\n",
      "937\n",
      "941\n",
      "947\n",
      "953\n",
      "967\n",
      "971\n",
      "977\n",
      "983\n",
      "991\n",
      "997\n"
     ]
    }
   ],
   "source": [
    "# 5.\tWrite a Python Program to Print all Prime Numbers in an Interval of 1-10000?\n",
    "\n",
    "def print_prime(low,high):\n",
    "    for num in range(low,high):\n",
    "        check_prime_num(num)\n",
    "\n",
    "def check_prime_num(num):\n",
    "    flag = True\n",
    "    if num > 1:\n",
    "        for i in range(2,num):\n",
    "            if num%i==0:\n",
    "                flag = False\n",
    "        if flag:\n",
    "            print(num)\n",
    "    else:\n",
    "        flag = False\n",
    "\n",
    "print_prime(1,1000)"
   ]
  },
  {
   "cell_type": "code",
   "execution_count": 61,
   "id": "9fec1226",
   "metadata": {},
   "outputs": [
    {
     "data": {
      "text/plain": [
       "60"
      ]
     },
     "execution_count": 61,
     "metadata": {},
     "output_type": "execute_result"
    }
   ],
   "source": [
    "math.lcm(12,15)"
   ]
  },
  {
   "cell_type": "code",
   "execution_count": 59,
   "id": "c54b3c90",
   "metadata": {},
   "outputs": [
    {
     "data": {
      "text/plain": [
       "3"
      ]
     },
     "execution_count": 59,
     "metadata": {},
     "output_type": "execute_result"
    }
   ],
   "source": [
    "math.gcd(12,15)"
   ]
  },
  {
   "cell_type": "code",
   "execution_count": 65,
   "id": "cf6efdca",
   "metadata": {},
   "outputs": [
    {
     "name": "stdout",
     "output_type": "stream",
     "text": [
      "0b1010\n",
      "0o12\n",
      "0xa\n",
      "99\n"
     ]
    }
   ],
   "source": [
    "# 3.\tWrite a Python Program to Convert Decimal to Binary, Octal and Hexadecimal?\n",
    "# 4.\tWrite a Python Program To Find ASCII value of a character?\n",
    "\n",
    "print(bin(10))\n",
    "print(oct(10))\n",
    "print(hex(10))\n",
    "print(ord('c'))"
   ]
  },
  {
   "cell_type": "code",
   "execution_count": 68,
   "id": "89d5fa11",
   "metadata": {},
   "outputs": [
    {
     "data": {
      "text/plain": [
       "[4, 5, 1, 2, 3]"
      ]
     },
     "execution_count": 68,
     "metadata": {},
     "output_type": "execute_result"
    }
   ],
   "source": [
    "def rotate_array(arr, k):\n",
    "    n = len(arr)\n",
    "    k = k % n  # Handle cases where k is larger than the array length\n",
    "    rotated_arr = arr[-k:] + arr[:-k]\n",
    "    return rotated_arr\n",
    "\n",
    "my_array = [1, 2, 3, 4, 5]\n",
    "rotation_amount = 2\n",
    "rotated_array = rotate_array(my_array, rotation_amount)\n",
    "rotated_array"
   ]
  },
  {
   "cell_type": "code",
   "execution_count": 70,
   "id": "6be36020",
   "metadata": {},
   "outputs": [
    {
     "name": "stdout",
     "output_type": "stream",
     "text": [
      "[1, 2, 3, 4, 5] is monotonic: True\n",
      "[5, 4, 3, 2, 1] is monotonic: True\n",
      "[1, 2, 2, 3, 4] is monotonic: True\n",
      "[1, 3, 2, 4, 5] is monotonic: False\n"
     ]
    }
   ],
   "source": [
    "def is_monotonic(arr):\n",
    "    \"\"\"\n",
    "    Checks if an array is monotonic (either non-decreasing or non-increasing).\n",
    "\n",
    "    Args:\n",
    "        arr: The input array.\n",
    "\n",
    "    Returns:\n",
    "        True if the array is monotonic, False otherwise.\n",
    "    \"\"\"\n",
    "    increasing = decreasing = True\n",
    "    for i in range(1, len(arr)):\n",
    "        if arr[i] < arr[i - 1]:\n",
    "            increasing = False\n",
    "        if arr[i] > arr[i - 1]:\n",
    "            decreasing = False\n",
    "    return increasing or decreasing\n",
    "\n",
    "# Example usage:\n",
    "array1 = [1, 2, 3, 4, 5]\n",
    "array2 = [5, 4, 3, 2, 1]\n",
    "array3 = [1, 2, 2, 3, 4]\n",
    "array4 = [1, 3, 2, 4, 5]\n",
    "\n",
    "print(f\"{array1} is monotonic: {is_monotonic(array1)}\")\n",
    "print(f\"{array2} is monotonic: {is_monotonic(array2)}\")\n",
    "print(f\"{array3} is monotonic: {is_monotonic(array3)}\")\n",
    "print(f\"{array4} is monotonic: {is_monotonic(array4)}\")"
   ]
  }
 ],
 "metadata": {
  "kernelspec": {
   "display_name": "Python 3",
   "language": "python",
   "name": "python3"
  },
  "language_info": {
   "codemirror_mode": {
    "name": "ipython",
    "version": 3
   },
   "file_extension": ".py",
   "mimetype": "text/x-python",
   "name": "python",
   "nbconvert_exporter": "python",
   "pygments_lexer": "ipython3",
   "version": "3.10.0"
  }
 },
 "nbformat": 4,
 "nbformat_minor": 5
}
