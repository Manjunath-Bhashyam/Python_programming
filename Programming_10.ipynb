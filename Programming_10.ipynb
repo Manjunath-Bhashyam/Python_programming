{
 "cells": [
  {
   "cell_type": "code",
   "execution_count": 10,
   "id": "30925729",
   "metadata": {},
   "outputs": [
    {
     "name": "stdout",
     "output_type": "stream",
     "text": [
      "[18.257418583505537, 22.360679774997898, 24.49489742783178]\n"
     ]
    }
   ],
   "source": [
    "\"\"\"Question 1:\n",
    "\n",
    "Write a program that calculates and prints the value according to the given formula:\n",
    "\n",
    "Q = Square root of [(2 * C * D)/H]\n",
    "\n",
    "Following are the fixed values of C and H:\n",
    "\n",
    "C is 50. H is 30.\n",
    "\n",
    "D is the variable whose values should be input to your program in a comma-separated sequence.\n",
    "\n",
    "Example\n",
    "\n",
    "Let us assume the following comma separated input sequence is given to the program:\n",
    "\n",
    "100,150,180\n",
    "\n",
    "The output of the program should be:\n",
    "\n",
    "18,22,24\n",
    "\"\"\"\n",
    "import math\n",
    "\n",
    "def formula_compute(arr):\n",
    "    x = []\n",
    "    for i in arr:\n",
    "        x.append(math.sqrt((2 * 50 * i)/30))\n",
    "    print(x, sep=',')\n",
    "formula_compute(arr=[100,150,180])"
   ]
  },
  {
   "cell_type": "code",
   "execution_count": 17,
   "id": "2c819c31",
   "metadata": {},
   "outputs": [
    {
     "name": "stdout",
     "output_type": "stream",
     "text": [
      "[[0, 0, 0, 0, 0], [0, 1, 2, 3, 4], [0, 2, 4, 6, 8]]\n"
     ]
    }
   ],
   "source": [
    "\"\"\"Question 2:\n",
    "Write a program which takes 2 digits, X,Y as input and generates a 2-dimensional array. The element value in the i-th row and j-th column of the array should be i*j.\n",
    "\n",
    "Note: i=0,1.., X-1; j=0,1,¡¬Y-1.\n",
    "\n",
    "Example\n",
    "\n",
    "Suppose the following inputs are given to the program:\n",
    "\n",
    "3,5\n",
    "\n",
    "Then, the output of the program should be:\n",
    "\n",
    "[[0, 0, 0, 0, 0], [0, 1, 2, 3, 4], [0, 2, 4, 6, 8]] \n",
    "\"\"\"\n",
    "\n",
    "\n",
    "def array_func(x,y):\n",
    "    return [[(i*j) for j in range(0,y)] for i in range(0,x) ]\n",
    "\n",
    "print(array_func(3,5))"
   ]
  },
  {
   "cell_type": "code",
   "execution_count": 16,
   "id": "5b50b4bd",
   "metadata": {},
   "outputs": [
    {
     "data": {
      "text/plain": [
       "[[0, 0, 0], [0, 1, 2], [0, 2, 4], [0, 3, 6], [0, 4, 8]]"
      ]
     },
     "execution_count": 16,
     "metadata": {},
     "output_type": "execute_result"
    }
   ],
   "source": [
    "def array_func(x,y):\n",
    "    return [[(i*j) for i in range(0,x)] for j in range(0,y) ]\n",
    "\n",
    "array_func(3,5)"
   ]
  },
  {
   "cell_type": "code",
   "execution_count": 21,
   "id": "344c1308",
   "metadata": {},
   "outputs": [
    {
     "name": "stdout",
     "output_type": "stream",
     "text": [
      "['bag', 'hello', 'without', 'world']\n"
     ]
    }
   ],
   "source": [
    "\"\"\"Question 3:\n",
    "Write a program that accepts a comma separated sequence of words as input and prints the words in a comma-separated sequence after sorting them alphabetically.\n",
    "\n",
    "Suppose the following input is supplied to the program:\n",
    "\n",
    "without,hello,bag,world\n",
    "\n",
    "Then, the output should be:\n",
    "\n",
    "bag,hello,without,world\n",
    "\"\"\"\n",
    "\n",
    "def word_sorter(arr):\n",
    "    arr =arr.split(',')\n",
    "    return print(sorted(arr),sep=',')\n",
    "\n",
    "word_sorter('without,hello,bag,world')"
   ]
  },
  {
   "cell_type": "code",
   "execution_count": 24,
   "id": "12b869ab",
   "metadata": {},
   "outputs": [
    {
     "name": "stdout",
     "output_type": "stream",
     "text": [
      "again and hello makes perfect practice world\n"
     ]
    }
   ],
   "source": [
    "\"\"\"Question 4:\n",
    "Write a program that accepts a sequence of whitespace separated words as input and prints the words after removing all duplicate words and sorting them alphanumerically.\n",
    "\n",
    "Suppose the following input is supplied to the program:\n",
    "\n",
    "hello world and practice makes perfect and hello world again\n",
    "\n",
    "Then, the output should be:\n",
    "\n",
    "again and hello makes perfect practice world\n",
    "\"\"\"\n",
    "\n",
    "def words_sorter(sentence):\n",
    "    words = sentence.split(' ')\n",
    "    words = set(words)\n",
    "    print(' '.join(sorted(words)))\n",
    "\n",
    "words_sorter('hello world and practice makes perfect and hello world again')"
   ]
  },
  {
   "cell_type": "code",
   "execution_count": 29,
   "id": "dea035af",
   "metadata": {},
   "outputs": [
    {
     "data": {
      "text/plain": [
       "'LETTERS: 10,DIGITS:3'"
      ]
     },
     "execution_count": 29,
     "metadata": {},
     "output_type": "execute_result"
    }
   ],
   "source": [
    "\"\"\"Question 5:\n",
    "Write a program that accepts a sentence and calculate the number of letters and digits.\n",
    "\n",
    "Suppose the following input is supplied to the program:\n",
    "\n",
    "hello world! 123\n",
    "\n",
    "Then, the output should be:\n",
    "\n",
    "LETTERS 10\n",
    "\n",
    "DIGITS 3\n",
    "\"\"\"\n",
    "\n",
    "def word_letter_cal(sentence):\n",
    "    letters = 0\n",
    "    digits = 0\n",
    "    for char in sentence:\n",
    "        if char.isalpha():\n",
    "            letters+=1\n",
    "        elif char.isdigit():\n",
    "            digits+=1\n",
    "\n",
    "    return f\"LETTERS: {letters},DIGITS:{digits}\"\n",
    "    \n",
    "\n",
    "word_letter_cal('hello world! 123')"
   ]
  },
  {
   "cell_type": "code",
   "execution_count": 30,
   "id": "9d27bf5e",
   "metadata": {},
   "outputs": [
    {
     "name": "stdout",
     "output_type": "stream",
     "text": [
      "'ABd1234@1\n"
     ]
    }
   ],
   "source": [
    "\"\"\"Question 6:\n",
    "A website requires the users to input username and password to register. Write a program to check the validity of password input by users.\n",
    "\n",
    "Following are the criteria for checking the password:\n",
    "\n",
    "1. At least 1 letter between [a-z]\n",
    "\n",
    "2. At least 1 number between [0-9]\n",
    "\n",
    "1. At least 1 letter between [A-Z]\n",
    "\n",
    "3. At least 1 character from [$#@]\n",
    "\n",
    "4. Minimum length of transaction password: 6\n",
    "\n",
    "5. Maximum length of transaction password: 12\n",
    "\n",
    "Your program should accept a sequence of comma separated passwords and will check them according to the above criteria. Passwords that match the criteria are to be printed, each separated by a comma.\n",
    "\n",
    "Example\n",
    "\n",
    "If the following passwords are given as input to the program:\n",
    "\n",
    "ABd1234@1,a F1#,2w3E*,2We3345\n",
    "\n",
    "Then, the output of the program should be:\n",
    "\n",
    "ABd1234@1\n",
    "\n",
    "\"\"\"\n",
    "\n",
    "import re\n",
    "\n",
    "# Take input from the user\n",
    "passwords = input(\"Enter comma-separated passwords: \").split(',')\n",
    "\n",
    "valid_passwords = []\n",
    "\n",
    "# Check each password\n",
    "for password in passwords:\n",
    "    if (6 <= len(password) <= 12 and\n",
    "        re.search(\"[a-z]\", password) and\n",
    "        re.search(\"[A-Z]\", password) and\n",
    "        re.search(\"[0-9]\", password) and\n",
    "        re.search(\"[$#@]\", password) and\n",
    "        not re.search(\"\\s\", password)):\n",
    "        valid_passwords.append(password)\n",
    "\n",
    "# Print valid passwords\n",
    "print(','.join(valid_passwords))"
   ]
  }
 ],
 "metadata": {
  "kernelspec": {
   "display_name": "Python 3",
   "language": "python",
   "name": "python3"
  },
  "language_info": {
   "codemirror_mode": {
    "name": "ipython",
    "version": 3
   },
   "file_extension": ".py",
   "mimetype": "text/x-python",
   "name": "python",
   "nbconvert_exporter": "python",
   "pygments_lexer": "ipython3",
   "version": "3.10.0"
  }
 },
 "nbformat": 4,
 "nbformat_minor": 5
}
