{
 "cells": [
  {
   "cell_type": "code",
   "execution_count": 1,
   "id": "b99e838c",
   "metadata": {},
   "outputs": [
    {
     "data": {
      "text/plain": [
       "6750"
      ]
     },
     "execution_count": 1,
     "metadata": {},
     "output_type": "execute_result"
    }
   ],
   "source": [
    "# 1.\tWrite a Python program to find sum of elements in list?\n",
    "# 2.\tWrite a Python program to  Multiply all numbers in the list?\n",
    "\n",
    "def multiply(arr):\n",
    "    product = 1\n",
    "    for i in arr:\n",
    "        product = product*i\n",
    "    return product\n",
    "\n",
    "multiply([1,5,6,45,5])\n"
   ]
  },
  {
   "cell_type": "code",
   "execution_count": 9,
   "id": "49344316",
   "metadata": {},
   "outputs": [
    {
     "name": "stdout",
     "output_type": "stream",
     "text": [
      "6\n"
     ]
    }
   ],
   "source": [
    "# 5.\tWrite a Python program to find second largest number in a list?\n",
    "\n",
    "arr = [1,5,6,45,5]\n",
    "max1= max2 = float('-inf')\n",
    "for i in arr:\n",
    "    if i>max1:\n",
    "        max2=max1\n",
    "        max1 = i\n",
    "    elif i>max2 and i!=max1:\n",
    "        max2 = i\n",
    "\n",
    "print(max2)"
   ]
  },
  {
   "cell_type": "code",
   "execution_count": 12,
   "id": "2d154c97",
   "metadata": {},
   "outputs": [
    {
     "data": {
      "text/plain": [
       "[[1, 2, 3], [2, 3, 4]]"
      ]
     },
     "execution_count": 12,
     "metadata": {},
     "output_type": "execute_result"
    }
   ],
   "source": [
    "# 9.\tWrite a Python program to Remove empty List from List?\n",
    "arr = [[1,2,3],[],[2,3,4]]\n",
    "\n",
    "arr = [x for x in arr if x]\n",
    "arr"
   ]
  },
  {
   "cell_type": "code",
   "execution_count": 16,
   "id": "fe3d0299",
   "metadata": {},
   "outputs": [
    {
     "data": {
      "text/plain": [
       "Counter({5: 2, 1: 1, 6: 1, 45: 1})"
      ]
     },
     "execution_count": 16,
     "metadata": {},
     "output_type": "execute_result"
    }
   ],
   "source": [
    "# 11.\tWrite a Python program to Count occurrences of an element in a list?\n",
    "\n",
    "arr = [1,5,6,45,5]\n",
    "from collections import Counter\n",
    "\n",
    "x = Counter(arr)\n",
    "x"
   ]
  },
  {
   "cell_type": "code",
   "execution_count": 18,
   "id": "38cc9606",
   "metadata": {},
   "outputs": [
    {
     "data": {
      "text/plain": [
       "2"
      ]
     },
     "execution_count": 18,
     "metadata": {},
     "output_type": "execute_result"
    }
   ],
   "source": [
    "def count_occ(arr, element):\n",
    "    return arr.count(element)\n",
    "\n",
    "\n",
    "count_occ(arr, 5)"
   ]
  },
  {
   "cell_type": "code",
   "execution_count": null,
   "id": "baf5dedb",
   "metadata": {},
   "outputs": [],
   "source": []
  }
 ],
 "metadata": {
  "kernelspec": {
   "display_name": "Python 3",
   "language": "python",
   "name": "python3"
  },
  "language_info": {
   "codemirror_mode": {
    "name": "ipython",
    "version": 3
   },
   "file_extension": ".py",
   "mimetype": "text/x-python",
   "name": "python",
   "nbconvert_exporter": "python",
   "pygments_lexer": "ipython3",
   "version": "3.10.0"
  }
 },
 "nbformat": 4,
 "nbformat_minor": 5
}
