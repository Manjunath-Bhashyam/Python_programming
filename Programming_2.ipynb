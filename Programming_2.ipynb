{
 "cells": [
  {
   "cell_type": "code",
   "execution_count": 2,
   "id": "cd10abac",
   "metadata": {},
   "outputs": [
    {
     "data": {
      "text/plain": [
       "621.37"
      ]
     },
     "execution_count": 2,
     "metadata": {},
     "output_type": "execute_result"
    }
   ],
   "source": [
    "# 1.\tWrite a Python program to convert kilometers to miles?\n",
    "\n",
    "class Converter:\n",
    "    def __init__(self, kilometers):\n",
    "        self.kilometers = kilometers\n",
    "\n",
    "    def convert_to_miles(self):\n",
    "        miles = self.kilometers * 0.62137\n",
    "        return miles\n",
    "    \n",
    "covert_miles = Converter(1000)\n",
    "covert_miles.convert_to_miles()"
   ]
  },
  {
   "cell_type": "code",
   "execution_count": 3,
   "id": "0c0ce636",
   "metadata": {},
   "outputs": [
    {
     "data": {
      "text/plain": [
       "212.0"
      ]
     },
     "execution_count": 3,
     "metadata": {},
     "output_type": "execute_result"
    }
   ],
   "source": [
    "# 2.\tWrite a Python program to convert Celsius to Fahrenheit?\n",
    "\n",
    "def temperature_converter(temperature):\n",
    "    fahrenheit = ((9 * temperature)/5) + 32\n",
    "    return fahrenheit\n",
    "\n",
    "temperature_converter(100)"
   ]
  },
  {
   "cell_type": "code",
   "execution_count": 8,
   "id": "658b9444",
   "metadata": {},
   "outputs": [
    {
     "name": "stdout",
     "output_type": "stream",
     "text": [
      "   December 2024\n",
      "Mo Tu We Th Fr Sa Su\n",
      "                   1\n",
      " 2  3  4  5  6  7  8\n",
      " 9 10 11 12 13 14 15\n",
      "16 17 18 19 20 21 22\n",
      "23 24 25 26 27 28 29\n",
      "30 31\n",
      "\n"
     ]
    }
   ],
   "source": [
    "# 3.\tWrite a Python program to display calendar?\n",
    "\n",
    "import calendar\n",
    "\n",
    "year = int(input(\"Enter the year: \"))\n",
    "month = int(input(\"Enter the month (1-12): \"))\n",
    "\n",
    "# print(calendar.calendar(2025))\n",
    "print(calendar.month(theyear=year, themonth= month))"
   ]
  },
  {
   "cell_type": "code",
   "execution_count": 10,
   "id": "450832cd",
   "metadata": {},
   "outputs": [
    {
     "data": {
      "text/plain": [
       "'Root are real and same, root1: -1.0, root2: -1.0'"
      ]
     },
     "execution_count": 10,
     "metadata": {},
     "output_type": "execute_result"
    }
   ],
   "source": [
    "# 4.\tWrite a Python program to solve quadratic equation?\n",
    "\n",
    "import math\n",
    "\n",
    "def solve_quadratic(a, b, c):\n",
    "    discriminant = b**2 - 4 * a * c\n",
    "    sqrt_discriminant = math.sqrt(abs(discriminant))\n",
    "\n",
    "    # checking constraint for discriminant\n",
    "    if discriminant > 0:\n",
    "        root1 = (-b + sqrt_discriminant)/ (2*a)\n",
    "        root2 = (-b - sqrt_discriminant)/ (2*a)\n",
    "\n",
    "        return f\"Root are real and different, root1: {root1}, root2: {root2}\"\n",
    "    \n",
    "    elif discriminant == 0:\n",
    "        root1 = root2 = (-b / (2*a))\n",
    "\n",
    "        return f\"Root are real and same, root1: {root1}, root2: {root2}\"\n",
    "    \n",
    "    else:\n",
    "        print(- b / (2 * a), + i, sqrt_discriminant / (2 * a)) \n",
    "\n",
    "solve_quadratic(a=2,b=4,c=2)"
   ]
  },
  {
   "cell_type": "code",
   "execution_count": 11,
   "id": "bfe8533a",
   "metadata": {},
   "outputs": [
    {
     "data": {
      "text/plain": [
       "(3, 2)"
      ]
     },
     "execution_count": 11,
     "metadata": {},
     "output_type": "execute_result"
    }
   ],
   "source": [
    "# 5.\tWrite a Python program to swap two variables without temp variable?\n",
    "\n",
    "def swap(a,b):\n",
    "    a,b = b,a\n",
    "    return a,b\n",
    "\n",
    "swap(2,3)"
   ]
  },
  {
   "cell_type": "code",
   "execution_count": null,
   "id": "06e494cc",
   "metadata": {},
   "outputs": [],
   "source": []
  }
 ],
 "metadata": {
  "kernelspec": {
   "display_name": "Python 3",
   "language": "python",
   "name": "python3"
  },
  "language_info": {
   "codemirror_mode": {
    "name": "ipython",
    "version": 3
   },
   "file_extension": ".py",
   "mimetype": "text/x-python",
   "name": "python",
   "nbconvert_exporter": "python",
   "pygments_lexer": "ipython3",
   "version": "3.10.0"
  }
 },
 "nbformat": 4,
 "nbformat_minor": 5
}
