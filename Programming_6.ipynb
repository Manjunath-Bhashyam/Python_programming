{
 "cells": [
  {
   "cell_type": "code",
   "execution_count": 5,
   "id": "9f81dcb9",
   "metadata": {},
   "outputs": [
    {
     "data": {
      "text/plain": [
       "'Disarium'"
      ]
     },
     "execution_count": 5,
     "metadata": {},
     "output_type": "execute_result"
    }
   ],
   "source": [
    "# 1.\tWrite a Python program to check if the given number is a Disarium Number?\n",
    "\n",
    "def disarum(num):\n",
    "    num_str = str(num)\n",
    "    n = len(num_str)\n",
    "    x = []\n",
    "    for i, j in enumerate(num_str,start=1):\n",
    "        x.append(int(j)**i)\n",
    "    if sum(x)==num:\n",
    "        return \"Disarium\"\n",
    "\n",
    "disarum(175)"
   ]
  },
  {
   "cell_type": "code",
   "execution_count": null,
   "id": "9645499c",
   "metadata": {},
   "outputs": [],
   "source": []
  }
 ],
 "metadata": {
  "kernelspec": {
   "display_name": "Python 3",
   "language": "python",
   "name": "python3"
  },
  "language_info": {
   "codemirror_mode": {
    "name": "ipython",
    "version": 3
   },
   "file_extension": ".py",
   "mimetype": "text/x-python",
   "name": "python",
   "nbconvert_exporter": "python",
   "pygments_lexer": "ipython3",
   "version": "3.10.0"
  }
 },
 "nbformat": 4,
 "nbformat_minor": 5
}
