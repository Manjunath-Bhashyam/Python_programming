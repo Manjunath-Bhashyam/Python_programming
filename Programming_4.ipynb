{
 "cells": [
  {
   "cell_type": "code",
   "execution_count": 9,
   "id": "d30506c7",
   "metadata": {},
   "outputs": [
    {
     "data": {
      "text/plain": [
       "1"
      ]
     },
     "execution_count": 9,
     "metadata": {},
     "output_type": "execute_result"
    }
   ],
   "source": [
    "# 1.\tWrite a Python Program to Find the Factorial of a Number?\n",
    "\n",
    "import math\n",
    "def factorial_num(num):\n",
    "    if num>1:\n",
    "        return math.factorial(num)\n",
    "    return 1\n",
    "\n",
    "factorial_num(1)"
   ]
  },
  {
   "cell_type": "code",
   "execution_count": 16,
   "id": "be91f3bd",
   "metadata": {},
   "outputs": [
    {
     "name": "stdout",
     "output_type": "stream",
     "text": [
      "12 x 1 = 12\n",
      "12 x 2 = 24\n",
      "12 x 3 = 36\n",
      "12 x 4 = 48\n",
      "12 x 5 = 60\n",
      "12 x 6 = 72\n",
      "12 x 7 = 84\n",
      "12 x 8 = 96\n",
      "12 x 9 = 108\n",
      "12 x 10 = 120\n"
     ]
    }
   ],
   "source": [
    "# 2.\tWrite a Python Program to Display the multiplication Table?\n",
    "\n",
    "def multiplication_table(num):\n",
    "    for i in range(1,11):\n",
    "        res = num*i\n",
    "        print(f'{num} x {i} = {res}')\n",
    "\n",
    "multiplication_table(12)"
   ]
  },
  {
   "cell_type": "code",
   "execution_count": 19,
   "id": "dab5746d",
   "metadata": {},
   "outputs": [
    {
     "name": "stdout",
     "output_type": "stream",
     "text": [
      "1\n",
      "1\n",
      "2\n",
      "3\n",
      "5\n"
     ]
    }
   ],
   "source": [
    "# 3.\tWrite a Python Program to Print the Fibonacci sequence?\n",
    "\n",
    "def fibonacci(num):\n",
    "    x,y = 0,1\n",
    "    for i in range(num):\n",
    "        x, y = y, x+y\n",
    "        yield x\n",
    "\n",
    "for i in fibonacci(5):\n",
    "    print(i)\n",
    "\n",
    "    \n"
   ]
  },
  {
   "cell_type": "code",
   "execution_count": 30,
   "id": "e40168d0",
   "metadata": {},
   "outputs": [
    {
     "data": {
      "text/plain": [
       "'Armstrong number'"
      ]
     },
     "execution_count": 30,
     "metadata": {},
     "output_type": "execute_result"
    }
   ],
   "source": [
    "# 4.\tWrite a Python Program to Check Armstrong Number?\n",
    "def armstrong(num):\n",
    "    num_s = str(num)\n",
    "    n = len(num_s)\n",
    "    x = []\n",
    "    for i in num_s:\n",
    "        x.append(int(i)**n)\n",
    "    if sum(x) == num:\n",
    "        return 'Armstrong number'\n",
    "    else:\n",
    "        return 'Not an Armstrong number'\n",
    "\n",
    "armstrong(371)\n"
   ]
  },
  {
   "cell_type": "code",
   "execution_count": 31,
   "id": "7aa0948d",
   "metadata": {},
   "outputs": [
    {
     "name": "stdout",
     "output_type": "stream",
     "text": [
      "1\n",
      "2\n",
      "3\n",
      "4\n",
      "5\n",
      "6\n",
      "7\n",
      "8\n",
      "9\n",
      "153\n",
      "370\n",
      "371\n",
      "407\n",
      "1634\n"
     ]
    }
   ],
   "source": [
    "# 5.\tWrite a Python Program to Find Armstrong Number in an Interval?\n",
    "def armstrong_list(low, high):\n",
    "    x = []\n",
    "    for i in range(low, high):\n",
    "        armstrong(i)\n",
    "\n",
    "def armstrong(num):\n",
    "    num_s = str(num)\n",
    "    n = len(num_s)\n",
    "    x = []\n",
    "    for i in num_s:\n",
    "        x.append(int(i)**n)\n",
    "    if sum(x) == num:\n",
    "        print(num)\n",
    "    else:\n",
    "        False\n",
    "\n",
    "armstrong_list(1, 1700)"
   ]
  },
  {
   "cell_type": "code",
   "execution_count": 32,
   "id": "ff35e124",
   "metadata": {},
   "outputs": [
    {
     "data": {
      "text/plain": [
       "55.0"
      ]
     },
     "execution_count": 32,
     "metadata": {},
     "output_type": "execute_result"
    }
   ],
   "source": [
    "# 6.\tWrite a Python Program to Find the Sum of Natural Numbers?\n",
    "\n",
    "def sum_of_natural_numbers(num):\n",
    "    return (num*(num+1))/2\n",
    "\n",
    "sum_of_natural_numbers(10)"
   ]
  }
 ],
 "metadata": {
  "kernelspec": {
   "display_name": "Python 3",
   "language": "python",
   "name": "python3"
  },
  "language_info": {
   "codemirror_mode": {
    "name": "ipython",
    "version": 3
   },
   "file_extension": ".py",
   "mimetype": "text/x-python",
   "name": "python",
   "nbconvert_exporter": "python",
   "pygments_lexer": "ipython3",
   "version": "3.10.0"
  }
 },
 "nbformat": 4,
 "nbformat_minor": 5
}
